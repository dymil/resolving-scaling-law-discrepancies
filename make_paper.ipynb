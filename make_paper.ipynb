{
 "cells": [
  {
   "cell_type": "code",
   "execution_count": null,
   "metadata": {},
   "outputs": [],
   "source": [
    "%load_ext autoreload\n",
    "%autoreload 2"
   ]
  },
  {
   "cell_type": "code",
   "execution_count": null,
   "metadata": {},
   "outputs": [],
   "source": [
    "from configs import *\n",
    "import pandas as pd\n",
    "from data import *\n",
    "from analysis import *\n",
    "from paper_figures import *\n",
    "from paper_tables import *"
   ]
  },
  {
   "cell_type": "code",
   "execution_count": null,
   "metadata": {},
   "outputs": [],
   "source": [
    "save_figs = True"
   ]
  },
  {
   "cell_type": "code",
   "execution_count": null,
   "metadata": {},
   "outputs": [],
   "source": [
    "df = pd.read_pickle('data/experiment_results.pickle.xz', compression='xz')\n",
    "df = process_big_df(df.copy())"
   ]
  },
  {
   "cell_type": "code",
   "execution_count": null,
   "metadata": {},
   "outputs": [],
   "source": [
    "df_sweep = process_sweep_df(df.query(\"hparams=='sweep'\"))"
   ]
  },
  {
   "cell_type": "code",
   "execution_count": null,
   "metadata": {},
   "outputs": [],
   "source": [
    "multipliers = np.linspace(2,20,90)\n",
    "df_sweep_mults = process_sweep_df(df.query(\"hparams=='sweep'\"), trunc=multipliers)"
   ]
  },
  {
   "cell_type": "markdown",
   "metadata": {},
   "source": [
    "## Processing dfs - main analysis"
   ]
  },
  {
   "cell_type": "code",
   "execution_count": null,
   "metadata": {},
   "outputs": [],
   "source": [
    "# takes about ~28 minutes, mainly due to loss curve fitting. skip this if you want to save time and load the precomputed results\n",
    "summary_df = perform_main_analysis(df, FIGURE1_CONFIGS)\n",
    "summary_df_att = perform_main_analysis(df, ATTENTION_ACCOUNTING_CONFIGS)\n",
    "summary_df_kaplan_tuned_hparams = perform_main_analysis(df, [('rw', 'tuned', 'long', 'const', 'kaplan', 'train')])\n",
    "summary_df_owt2 = perform_main_analysis(df, FIGURE1_CONFIGS_OWT2)\n",
    "\n",
    "# saving the dataframes\n",
    "summary_df.to_pickle('data/summary_df.pickle.xz', compression='xz')\n",
    "summary_df_att.to_pickle('data/summary_df_att.pickle.xz', compression='xz')\n",
    "summary_df_kaplan_tuned_hparams.to_pickle('data/summary_df_kaplan_tuned_hparams.pickle.xz', compression='xz')\n",
    "summary_df_owt2.to_pickle('data/summary_df_owt2.pickle.xz', compression='xz')\n"
   ]
  },
  {
   "cell_type": "code",
   "execution_count": null,
   "metadata": {},
   "outputs": [],
   "source": [
    "# loading the dataframes (instead of running the above cells)\n",
    "summary_df = pd.read_pickle('data/summary_df.pickle.xz', compression='xz')\n",
    "summary_df_att = pd.read_pickle('data/summary_df_att.pickle.xz', compression='xz')\n",
    "summary_df_kaplan_tuned_hparams = pd.read_pickle('data/summary_df_kaplan_tuned_hparams.pickle.xz', compression='xz')\n",
    "summary_df_owt2 = pd.read_pickle('data/summary_df_owt2.pickle.xz', compression='xz')"
   ]
  },
  {
   "cell_type": "markdown",
   "metadata": {},
   "source": [
    "# Figures"
   ]
  },
  {
   "cell_type": "markdown",
   "metadata": {},
   "source": [
    "## Figure 1"
   ]
  },
  {
   "cell_type": "code",
   "execution_count": null,
   "metadata": {},
   "outputs": [],
   "source": [
    "figure1(summary_df, save=save_figs)\n",
    "plt.show()"
   ]
  },
  {
   "cell_type": "markdown",
   "metadata": {},
   "source": [
    "## Warmup evidence"
   ]
  },
  {
   "cell_type": "code",
   "execution_count": null,
   "metadata": {},
   "outputs": [],
   "source": [
    "warm_evidence_figure(summary_df, save=save_figs)"
   ]
  },
  {
   "cell_type": "markdown",
   "metadata": {},
   "source": [
    "## IsoFLOP curves"
   ]
  },
  {
   "cell_type": "code",
   "execution_count": null,
   "metadata": {},
   "outputs": [],
   "source": [
    "isoflop_loss_figure(summary_df, save=save_figs, configs_to_show=None)\n",
    "plt.show()"
   ]
  },
  {
   "cell_type": "code",
   "execution_count": null,
   "metadata": {},
   "outputs": [],
   "source": [
    "isoflop_loss_figure(summary_df_owt2, save=save_figs, configs_to_show=FIGURE1_CONFIGS_OWT2, save_path='../paper/figures/IsoFLOP-curves-owt2.pdf', ylim=[2.6,5.7])\n",
    "plt.show()"
   ]
  },
  {
   "cell_type": "markdown",
   "metadata": {},
   "source": [
    "## Different datasets and FLOP counts "
   ]
  },
  {
   "cell_type": "code",
   "execution_count": null,
   "metadata": {},
   "outputs": [],
   "source": [
    "full_results_figure(summary_df_owt2, save=save_figs, configs_to_show=FIGURE1_CONFIGS_OWT2)\n",
    "plt.show()"
   ]
  },
  {
   "cell_type": "code",
   "execution_count": null,
   "metadata": {},
   "outputs": [],
   "source": [
    "full_results_figure(summary_df, save=save_figs)\n",
    "plt.show()"
   ]
  },
  {
   "cell_type": "code",
   "execution_count": null,
   "metadata": {},
   "outputs": [],
   "source": [
    "opt_N_with_attention_figure(summary_df_att,save=save_figs)\n",
    "plt.show()"
   ]
  },
  {
   "cell_type": "code",
   "execution_count": null,
   "metadata": {},
   "outputs": [],
   "source": [
    "full_results_figure(summary_df_kaplan_tuned_hparams,\n",
    "    configs_to_show=[('rw', 'tuned', 'long', 'const', 'kaplan', 'train')], save=save_figs, kaplan_adjusted=True)\n",
    "plt.show()"
   ]
  },
  {
   "cell_type": "markdown",
   "metadata": {},
   "source": [
    "## Accuracy vs. compute"
   ]
  },
  {
   "cell_type": "code",
   "execution_count": null,
   "metadata": {},
   "outputs": [],
   "source": [
    "# takes about 2 minutes\n",
    "config_compute = ('rw', 'tuned', 'short', 'const', 'standard', 'val')\n",
    "summary_compute = perform_varying_compute_analysis(df, [2.56e19, 5.76e23], config_compute)"
   ]
  },
  {
   "cell_type": "code",
   "execution_count": null,
   "metadata": {},
   "outputs": [],
   "source": [
    "accuracy_vs_compute_figure(summary_compute, save=False)\n",
    "plt.show()"
   ]
  },
  {
   "cell_type": "markdown",
   "metadata": {},
   "source": [
    "## Power laws for loss "
   ]
  },
  {
   "cell_type": "code",
   "execution_count": null,
   "metadata": {},
   "outputs": [],
   "source": [
    "opt_loss_figure(summary_df, save=save_figs, bootstrap_num=0)\n",
    "plt.show()"
   ]
  },
  {
   "cell_type": "code",
   "execution_count": null,
   "metadata": {},
   "outputs": [],
   "source": [
    "opt_loss_extended_figure(summary_df, save=save_figs, bootstrap_num=200)\n",
    "plt.show()"
   ]
  },
  {
   "cell_type": "markdown",
   "metadata": {},
   "source": [
    "## Hyperparameters sweep results"
   ]
  },
  {
   "cell_type": "code",
   "execution_count": null,
   "metadata": {},
   "outputs": [],
   "source": [
    "df_sweep_opt_eta_and_bs, fit = get_interpolated_hparams_dfs(df_sweep)\n",
    "\n",
    "hparams_fit_figure(df_sweep, df_sweep_opt_eta_and_bs, fit, save=save_figs)\n",
    "plt.show()"
   ]
  },
  {
   "cell_type": "code",
   "execution_count": null,
   "metadata": {},
   "outputs": [],
   "source": [
    "df_sweep_beta2_095 = process_sweep_df(df.query(\"hparams=='sweep'\").query('beta2==0.95').copy())\n",
    "\n",
    "df_sweep_beta2_095_opt_eta_and_bs, fit_beta095 = get_interpolated_hparams_dfs(df_sweep_beta2_095)\n",
    "\n",
    "hparams_fit_figure(df_sweep_beta2_095, df_sweep_beta2_095_opt_eta_and_bs, fit_beta095, save=save_figs, save_path='../paper/figures/hparams_fit_0.95.pdf')\n",
    "plt.show()\n"
   ]
  },
  {
   "cell_type": "code",
   "execution_count": null,
   "metadata": {},
   "outputs": [],
   "source": [
    "full_sweep_figure(create_pivot_df(df_sweep), save=save_figs)"
   ]
  },
  {
   "cell_type": "markdown",
   "metadata": {},
   "source": [
    "## Estimation of ideal tuning"
   ]
  },
  {
   "cell_type": "code",
   "execution_count": null,
   "metadata": {},
   "outputs": [],
   "source": [
    "params_lr_map = dict(zip(df_sweep_opt_eta_and_bs['params'], df_sweep_opt_eta_and_bs['lr']))\n",
    "params_bs_map = dict(zip(df_sweep_opt_eta_and_bs['params'], df_sweep_opt_eta_and_bs['bs']))"
   ]
  },
  {
   "cell_type": "code",
   "execution_count": null,
   "metadata": {},
   "outputs": [],
   "source": [
    "params_bs_map = {5173248: 20, 7503872: 28, 9809920: 32, 15597568: 44, 22487040: 56, 28672000: 64, 37060608: 80, 57384960: 104, 84787200: 128, 108462080: 160, 149045248: 192, 220872704: 256, 347078656: 320, 455311360: 448, 611958784: 512, 901726208: 640}\n",
    "params_lr_map = {5173248: 1.30e-02, 7503872: 1.15e-02, 9809920: 1.05e-02, 15597568: 9.00e-03, 22487040: 8.00e-03, 28672000: 5.10e-03, 37060608: 5.10e-03, 57384960: 4.70e-03, 84787200: 5.10e-03, 108462080: 4.70e-03, 149045248: 4.30e-03, 220872704: 3.80e-03, 347078656: 3.20e-03, 455311360: 3.00e-03, 611958784: 2.70e-03, 901726208: 2.40e-03}\n",
    "df_sweep_mults['lr_star'] = df_sweep_mults['params'].map(params_lr_map)\n",
    "df_sweep_mults['bs_star'] = df_sweep_mults['params'].map(params_bs_map)\n",
    "df_sweep_extended, fits_extended = hparams_other_multipliers(df_sweep_mults, multipliers)"
   ]
  },
  {
   "cell_type": "code",
   "execution_count": null,
   "metadata": {},
   "outputs": [],
   "source": [
    "fits_N_vs_L_diff = fit_l_star_vs_N_for_M(df_sweep_extended, smoothed=True)"
   ]
  },
  {
   "cell_type": "code",
   "execution_count": null,
   "metadata": {},
   "outputs": [],
   "source": [
    "tuning_excess_df, optimal_pairs, fit_results = preform_analysis_with_sweep_data(summary_df.iloc[-1], fits_N_vs_L_diff)"
   ]
  },
  {
   "cell_type": "code",
   "execution_count": null,
   "metadata": {},
   "outputs": [],
   "source": [
    "ideal_tuning_figure(summary_df.iloc[-1], summary_compute, df_sweep_extended, tuning_excess_df, optimal_pairs, fit_results, save=save_figs, save_path='../paper/figures/ideal_tuning.pdf', flop_vals_tuning=[1.25e16, 1.6e18])"
   ]
  },
  {
   "cell_type": "markdown",
   "metadata": {},
   "source": [
    "## Seed variance plot"
   ]
  },
  {
   "cell_type": "code",
   "execution_count": null,
   "metadata": {},
   "outputs": [],
   "source": [
    "seed_df = df.query(\"hparams=='seed'\")"
   ]
  },
  {
   "cell_type": "code",
   "execution_count": null,
   "metadata": {},
   "outputs": [],
   "source": [
    "seed_noise_figure(perform_seed_var_analysis(seed_df), save=save_figs, save_path='../paper/figures/seed_noise.pdf')"
   ]
  },
  {
   "cell_type": "markdown",
   "metadata": {},
   "source": [
    "## Train loss curves"
   ]
  },
  {
   "cell_type": "code",
   "execution_count": null,
   "metadata": {},
   "outputs": [],
   "source": [
    "loss_curves_figure(df, save=save_figs, save_path='../paper/figures/loss-curves-rw.pdf')"
   ]
  },
  {
   "cell_type": "code",
   "execution_count": null,
   "metadata": {},
   "outputs": [],
   "source": [
    "loss_curves_figure(df, save=save_figs, save_path='../paper/figures/loss-curves-owt2.pdf', configs_to_show=FIGURE1_CONFIGS_OWT2, ylim=[2.64,5])"
   ]
  },
  {
   "cell_type": "markdown",
   "metadata": {},
   "source": [
    "# Tables"
   ]
  },
  {
   "cell_type": "code",
   "execution_count": null,
   "metadata": {},
   "outputs": [],
   "source": [
    "results_table_df = results_table(pd.concat([summary_df, summary_df_owt2]), flop_vals=FLOP_VALS, validation='all')"
   ]
  },
  {
   "cell_type": "code",
   "execution_count": null,
   "metadata": {},
   "outputs": [],
   "source": [
    "results_table_df.loc[len(results_table_df)] = results_table(summary_df_kaplan_tuned_hparams, flop_vals=FLOP_VALS, validation='all').iloc[0]\n",
    "results_table_df.loc[-1] = [\"Kaplan Law\", \"WebText2\", \"0.88\", \"\", \"\"]\n",
    "results_table_df.loc[-2] = [\"Hoffmann Law\", \"MassiveText\", \"0.5\", \"\", \"\"]\n",
    "results_table_df.index = results_table_df.index + 2\n",
    "results_table_df = results_table_df.sort_index()\n"
   ]
  },
  {
   "cell_type": "code",
   "execution_count": null,
   "metadata": {},
   "outputs": [],
   "source": [
    "results_table_df"
   ]
  },
  {
   "cell_type": "code",
   "execution_count": null,
   "metadata": {},
   "outputs": [],
   "source": [
    "tuned_hparams(df.query('dataset==\"rw\" and hparams==\"tuned\" and warmup==\"short\"')).sort_values('Batch size')"
   ]
  },
  {
   "cell_type": "code",
   "execution_count": null,
   "metadata": {},
   "outputs": [],
   "source": [
    "archs_table_df = archs_table(df.query('dataset==\"rw\" and hparams==\"tuned\" and warmup==\"short\"'))"
   ]
  },
  {
   "cell_type": "code",
   "execution_count": null,
   "metadata": {},
   "outputs": [],
   "source": [
    "archs_table_df"
   ]
  }
 ],
 "metadata": {
  "kernelspec": {
   "display_name": "Python 3 (ipykernel)",
   "language": "python",
   "name": "python3"
  },
  "language_info": {
   "codemirror_mode": {
    "name": "ipython",
    "version": 3
   },
   "file_extension": ".py",
   "mimetype": "text/x-python",
   "name": "python",
   "nbconvert_exporter": "python",
   "pygments_lexer": "ipython3",
   "version": "3.10.6"
  },
  "vscode": {
   "interpreter": {
    "hash": "aee8b7b246df8f9039afb4144a1f6fd8d2ca17a180786b69acc140d282b71a49"
   }
  }
 },
 "nbformat": 4,
 "nbformat_minor": 4
}
